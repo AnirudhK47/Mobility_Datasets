{
 "cells": [
  {
   "cell_type": "code",
   "execution_count": 1,
   "metadata": {},
   "outputs": [],
   "source": [
    "import csv\n",
    "import os\n",
    "import pandas as pd"
   ]
  },
  {
   "cell_type": "code",
   "execution_count": 2,
   "metadata": {},
   "outputs": [],
   "source": [
    "new_list = []\n",
    "fwd = list(os.walk('./'))\n",
    "for file in fwd[0][2]:\n",
    "    if file.endswith('.csv'):\n",
    "        with open(file, newline='') as f:\n",
    "            reader = csv.reader(f)\n",
    "            next(reader, None)\n",
    "            data = list(reader)\n",
    "            new_list.append(data)"
   ]
  },
  {
   "cell_type": "code",
   "execution_count": 4,
   "metadata": {
    "collapsed": true,
    "jupyter": {
     "outputs_hidden": true
    }
   },
   "outputs": [
    {
     "data": {
      "text/plain": [
       "['City Name',\n",
       " 'Population (2011)',\n",
       " 'Year',\n",
       " 'Average No. of daily trips',\n",
       " 'Average No. of passengers (day-to-day basis)',\n",
       " 'Average Trip length in km (daily)',\n",
       " 'Average cost per km (daily)',\n",
       " 'Revenue per km']"
      ]
     },
     "execution_count": 4,
     "metadata": {},
     "output_type": "execute_result"
    }
   ],
   "source": [
    "cols = [\"City Name\",\"Population (2011)\",\"Year\",\"Average No. of daily trips\",\"Average No. of passengers (day-to-day basis)\",\"Average Trip length in km (daily)\",\"Average cost per km (daily)\",\"Revenue per km\"]\n",
    "cols"
   ]
  },
  {
   "cell_type": "code",
   "execution_count": 56,
   "metadata": {},
   "outputs": [],
   "source": [
    "file = open('test.csv', 'w+', newline ='') \n",
    "with file:     \n",
    "    write = csv.writer(file) \n",
    "    for i in new_list:\n",
    "        write.writerows(i)"
   ]
  },
  {
   "cell_type": "code",
   "execution_count": null,
   "metadata": {},
   "outputs": [],
   "source": []
  }
 ],
 "metadata": {
  "kernelspec": {
   "display_name": "Python 3",
   "language": "python",
   "name": "python3"
  },
  "language_info": {
   "codemirror_mode": {
    "name": "ipython",
    "version": 3
   },
   "file_extension": ".py",
   "mimetype": "text/x-python",
   "name": "python",
   "nbconvert_exporter": "python",
   "pygments_lexer": "ipython3",
   "version": "3.8.0"
  }
 },
 "nbformat": 4,
 "nbformat_minor": 4
}
